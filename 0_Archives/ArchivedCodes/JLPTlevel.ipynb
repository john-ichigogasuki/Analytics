{
 "cells": [
  {
   "cell_type": "code",
   "execution_count": 101,
   "metadata": {},
   "outputs": [],
   "source": [
    "import unidic_lite, fugashi\n",
    "from transformers import pipeline"
   ]
  },
  {
   "cell_type": "code",
   "execution_count": 102,
   "metadata": {},
   "outputs": [
    {
     "name": "stderr",
     "output_type": "stream",
     "text": [
      "Device set to use mps:0\n"
     ]
    }
   ],
   "source": [
    "# sentiment_analyzer = pipeline(\"sentiment-analysis\", model=\"daigo/bert-base-japanese-sentiment\",token=)\n",
    "\n",
    "sentiment_analyzer = pipeline(\"text-classification\", model=\"bennexx/cl-tohoku-bert-base-japanese-v3-jlpt-classifier\")"
   ]
  },
  {
   "cell_type": "code",
   "execution_count": 103,
   "metadata": {},
   "outputs": [
    {
     "name": "stderr",
     "output_type": "stream",
     "text": [
      "Device set to use mps:0\n"
     ]
    }
   ],
   "source": [
    "# Use a pipeline as a high-level helper\n",
    "from transformers import pipeline\n",
    "\n",
    "pipe = pipeline(\"text-classification\", model=\"kit-nlp/bert-base-japanese-sentiment-irony\")"
   ]
  },
  {
   "cell_type": "code",
   "execution_count": 104,
   "metadata": {},
   "outputs": [],
   "source": [
    "from transformers import AutoTokenizer, AutoModelForSequenceClassification\n",
    "\n",
    "model_name = \"bennexx/cl-tohoku-bert-base-japanese-v3-jlpt-classifier\"\n",
    "\n",
    "# トークナイザの読み込み\n",
    "tokenizer = AutoTokenizer.from_pretrained(model_name)\n",
    "\n",
    "# モデルの読み込み\n",
    "model = AutoModelForSequenceClassification.from_pretrained(model_name)\n",
    "\n",
    "name = input()\n",
    "import pandas as pd\n",
    "\n",
    "alpha_df = pd.read_csv('../TalkData/alpha_'+name+'.csv')\n",
    "beta_df = pd.read_csv('../TalkData/beta_'+name+'.csv')\n",
    "\n",
    "output_alpha = pd.read_csv('../AnalyzedData/analyzed_alpha_'+name+'.csv')\n",
    "output_beta = pd.read_csv('../AnalyzedData/analyzed_beta_'+name+'.csv')\n",
    "import torch\n",
    "from transformers import AutoTokenizer, AutoModelForSequenceClassification\n",
    "\n",
    "model_name = \"bennexx/cl-tohoku-bert-base-japanese-v3-jlpt-classifier\"\n",
    "\n",
    "tokenizer = AutoTokenizer.from_pretrained(model_name)\n",
    "model = AutoModelForSequenceClassification.from_pretrained(model_name)\n",
    "\n",
    "device = torch.device(\"cuda\" if torch.cuda.is_available() else \"cpu\")\n",
    "model.to(device)\n",
    "def predict_jlpt_level(text: str) -> int:\n",
    "    \"\"\"\n",
    "    文章を入力すると、モデルの推定するJLPTレベルIDを返す。\n",
    "    例: 0: N5, 1: N4, 2: N3, 3: N2, 4: N1\n",
    "    \"\"\"\n",
    "    # トークナイズ\n",
    "    inputs = tokenizer(text, return_tensors=\"pt\", padding=True, truncation=True)\n",
    "    # デバイスに載せる\n",
    "    inputs = {k: v.to(device) for k, v in inputs.items()}\n",
    "    \n",
    "    with torch.no_grad():\n",
    "        outputs = model(**inputs)\n",
    "    logits = outputs.logits\n",
    "    predicted_id = torch.argmax(logits, dim=-1).item()\n",
    "    \n",
    "    return predicted_id\n",
    "\n",
    "# 新たに 'JLPTLevel' カラムを作成し、各行の \"Detail\" に対する推定結果を埋める\n",
    "output_alpha[\"JLPTLevel\"] = output_alpha[\"Detail\"].apply(predict_jlpt_level)\n",
    "output_beta[\"JLPTLevel\"] = output_beta[\"Detail\"].apply(predict_jlpt_level)\n",
    "\n",
    "output_alpha.to_csv(\"../AnalyzedData/analyzed_alpha_\"+name+\".csv\", index=False)\n",
    "output_beta.to_csv(\"../AnalyzedData/analyzed_beta_\"+name+\".csv\", index=False)"
   ]
  },
  {
   "cell_type": "code",
   "execution_count": null,
   "metadata": {},
   "outputs": [],
   "source": []
  }
 ],
 "metadata": {
  "kernelspec": {
   "display_name": "study",
   "language": "python",
   "name": "python3"
  },
  "language_info": {
   "codemirror_mode": {
    "name": "ipython",
    "version": 3
   },
   "file_extension": ".py",
   "mimetype": "text/x-python",
   "name": "python",
   "nbconvert_exporter": "python",
   "pygments_lexer": "ipython3",
   "version": "3.10.16"
  }
 },
 "nbformat": 4,
 "nbformat_minor": 2
}
