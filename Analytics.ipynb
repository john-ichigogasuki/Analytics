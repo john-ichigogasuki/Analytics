{
 "cells": [
  {
   "cell_type": "code",
   "execution_count": 30,
   "metadata": {},
   "outputs": [],
   "source": [
    "import MeCab\n",
    "import pandas as pd\n",
    "# tagger = mecab.Tagger(\"-Owakati\")\n",
    "tagger = MeCab.Tagger(\"-Owakati -r /opt/homebrew/etc/mecabrc\")"
   ]
  },
  {
   "cell_type": "code",
   "execution_count": 31,
   "metadata": {},
   "outputs": [],
   "source": [
    "alpha_data = pd.read_csv('./TalkData/alpha_Hiraoka.csv')\n",
    "beta_data = pd.read_csv('./TalkData/beta_Hiraoka.csv')"
   ]
  },
  {
   "cell_type": "code",
   "execution_count": 35,
   "metadata": {},
   "outputs": [
    {
     "data": {
      "text/html": [
       "<div>\n",
       "<style scoped>\n",
       "    .dataframe tbody tr th:only-of-type {\n",
       "        vertical-align: middle;\n",
       "    }\n",
       "\n",
       "    .dataframe tbody tr th {\n",
       "        vertical-align: top;\n",
       "    }\n",
       "\n",
       "    .dataframe thead th {\n",
       "        text-align: right;\n",
       "    }\n",
       "</style>\n",
       "<table border=\"1\" class=\"dataframe\">\n",
       "  <thead>\n",
       "    <tr style=\"text-align: right;\">\n",
       "      <th></th>\n",
       "      <th>Speaker</th>\n",
       "      <th>Detail</th>\n",
       "    </tr>\n",
       "  </thead>\n",
       "  <tbody>\n",
       "    <tr>\n",
       "      <th>0</th>\n",
       "      <td>AI</td>\n",
       "      <td>今日の歩数、4271歩ってことだね。週平均と比べると、ちょっと多めだけど、月平均と比べると少...</td>\n",
       "    </tr>\n",
       "    <tr>\n",
       "      <th>1</th>\n",
       "      <td>User</td>\n",
       "      <td>ゴールデンウィークは学振書いててずっと研究室いたよ．ほんと最悪だよね</td>\n",
       "    </tr>\n",
       "    <tr>\n",
       "      <th>2</th>\n",
       "      <td>AI</td>\n",
       "      <td>学振の申請書を書くのは、ほんと大変だよね。ゴールデンウィークに研究室にこもってるなんて、気持...</td>\n",
       "    </tr>\n",
       "    <tr>\n",
       "      <th>3</th>\n",
       "      <td>User</td>\n",
       "      <td>最近してなかったんだけど，今日筋トレしてきた．久しぶりの運動だから楽しかったー．</td>\n",
       "    </tr>\n",
       "    <tr>\n",
       "      <th>4</th>\n",
       "      <td>AI</td>\n",
       "      <td>久しぶりの筋トレ、楽しめたみたいで良かったね！体を動かすのは、ストレス解消にもなるし、気分も...</td>\n",
       "    </tr>\n",
       "    <tr>\n",
       "      <th>5</th>\n",
       "      <td>User</td>\n",
       "      <td>今日はスクワットいっぱいしたよ．MAX110なんやけど，今日重量落ちてなくて安心したー．あと...</td>\n",
       "    </tr>\n",
       "    <tr>\n",
       "      <th>6</th>\n",
       "      <td>AI</td>\n",
       "      <td>スクワットでMAX110キロをキープできてるなんて、かなりいい感じじゃないか！重量が落ちてな...</td>\n",
       "    </tr>\n",
       "    <tr>\n",
       "      <th>7</th>\n",
       "      <td>User</td>\n",
       "      <td>超スッキリしたー．今ベンチプレス90kgで100kg目指してるけどどうするのがいいかなぁ．</td>\n",
       "    </tr>\n",
       "    <tr>\n",
       "      <th>8</th>\n",
       "      <td>AI</td>\n",
       "      <td>100kgのベンチプレス目指してるんだね、いい目標だ！まずは、現在の90kgから徐々に重量を...</td>\n",
       "    </tr>\n",
       "    <tr>\n",
       "      <th>9</th>\n",
       "      <td>User</td>\n",
       "      <td>そうだよねー．研究してたら筋トレ怠っちゃって困るー</td>\n",
       "    </tr>\n",
       "    <tr>\n",
       "      <th>10</th>\n",
       "      <td>AI</td>\n",
       "      <td>研究と筋トレのバランスは難しいよね。でも、どっちも大事な活動だから、上手く時間を使って両方と...</td>\n",
       "    </tr>\n",
       "  </tbody>\n",
       "</table>\n",
       "</div>"
      ],
      "text/plain": [
       "   Speaker                                             Detail\n",
       "0       AI  今日の歩数、4271歩ってことだね。週平均と比べると、ちょっと多めだけど、月平均と比べると少...\n",
       "1     User                 ゴールデンウィークは学振書いててずっと研究室いたよ．ほんと最悪だよね\n",
       "2       AI  学振の申請書を書くのは、ほんと大変だよね。ゴールデンウィークに研究室にこもってるなんて、気持...\n",
       "3     User           最近してなかったんだけど，今日筋トレしてきた．久しぶりの運動だから楽しかったー．\n",
       "4       AI  久しぶりの筋トレ、楽しめたみたいで良かったね！体を動かすのは、ストレス解消にもなるし、気分も...\n",
       "5     User  今日はスクワットいっぱいしたよ．MAX110なんやけど，今日重量落ちてなくて安心したー．あと...\n",
       "6       AI  スクワットでMAX110キロをキープできてるなんて、かなりいい感じじゃないか！重量が落ちてな...\n",
       "7     User      超スッキリしたー．今ベンチプレス90kgで100kg目指してるけどどうするのがいいかなぁ．\n",
       "8       AI  100kgのベンチプレス目指してるんだね、いい目標だ！まずは、現在の90kgから徐々に重量を...\n",
       "9     User                          そうだよねー．研究してたら筋トレ怠っちゃって困るー\n",
       "10      AI  研究と筋トレのバランスは難しいよね。でも、どっちも大事な活動だから、上手く時間を使って両方と..."
      ]
     },
     "execution_count": 35,
     "metadata": {},
     "output_type": "execute_result"
    }
   ],
   "source": [
    "beta_data"
   ]
  },
  {
   "cell_type": "code",
   "execution_count": 28,
   "metadata": {},
   "outputs": [],
   "source": [
    "def calculate_unique_words(text):\n",
    "    words = tagger.parse(text).strip().split()\n",
    "    return len(set(words))"
   ]
  },
  {
   "cell_type": "code",
   "execution_count": 36,
   "metadata": {},
   "outputs": [],
   "source": [
    "alpha_data['UniqueWords'] = alpha_data['Detail'].apply(calculate_unique_words)\n",
    "beta_data['UniqueWords'] = beta_data['Detail'].apply(calculate_unique_words)"
   ]
  },
  {
   "cell_type": "code",
   "execution_count": 40,
   "metadata": {},
   "outputs": [],
   "source": [
    "alpha_avg = alpha_data[\"UniqueWords\"].mean()\n",
    "beta_avg = beta_data[\"UniqueWords\"].mean()"
   ]
  },
  {
   "cell_type": "code",
   "execution_count": 41,
   "metadata": {},
   "outputs": [
    {
     "data": {
      "text/plain": [
       "np.float64(35.666666666666664)"
      ]
     },
     "execution_count": 41,
     "metadata": {},
     "output_type": "execute_result"
    }
   ],
   "source": [
    "alpha_data"
   ]
  },
  {
   "cell_type": "code",
   "execution_count": 38,
   "metadata": {},
   "outputs": [
    {
     "data": {
      "text/html": [
       "<div>\n",
       "<style scoped>\n",
       "    .dataframe tbody tr th:only-of-type {\n",
       "        vertical-align: middle;\n",
       "    }\n",
       "\n",
       "    .dataframe tbody tr th {\n",
       "        vertical-align: top;\n",
       "    }\n",
       "\n",
       "    .dataframe thead th {\n",
       "        text-align: right;\n",
       "    }\n",
       "</style>\n",
       "<table border=\"1\" class=\"dataframe\">\n",
       "  <thead>\n",
       "    <tr style=\"text-align: right;\">\n",
       "      <th></th>\n",
       "      <th>Speaker</th>\n",
       "      <th>Detail</th>\n",
       "      <th>UniqueWords</th>\n",
       "    </tr>\n",
       "  </thead>\n",
       "  <tbody>\n",
       "    <tr>\n",
       "      <th>0</th>\n",
       "      <td>AI</td>\n",
       "      <td>こんにちは！最近、体を動かしたり、リラックスする時間は取れてるかな？あと、体調はどうだい？何...</td>\n",
       "      <td>33</td>\n",
       "    </tr>\n",
       "    <tr>\n",
       "      <th>1</th>\n",
       "      <td>User</td>\n",
       "      <td>体調はめっちゃいいよ．昨日は10時間も寝ちゃった．</td>\n",
       "      <td>13</td>\n",
       "    </tr>\n",
       "    <tr>\n",
       "      <th>2</th>\n",
       "      <td>AI</td>\n",
       "      <td>それは素晴らしいね！しっかり寝ることができたのは、体にとっても心にとってもいいことだよ。最近...</td>\n",
       "      <td>35</td>\n",
       "    </tr>\n",
       "    <tr>\n",
       "      <th>3</th>\n",
       "      <td>User</td>\n",
       "      <td>最近は申請書書いててストレス溜まってるかもー．研究向いてないー</td>\n",
       "      <td>15</td>\n",
       "    </tr>\n",
       "    <tr>\n",
       "      <th>4</th>\n",
       "      <td>AI</td>\n",
       "      <td>申請書を書くのは確かに大変だよね。研究に向いているかどうかというのは、時として自分でも判断し...</td>\n",
       "      <td>65</td>\n",
       "    </tr>\n",
       "    <tr>\n",
       "      <th>5</th>\n",
       "      <td>User</td>\n",
       "      <td>このまえ温泉行ったんだけどめっちゃ良かったよ．そのあとドライブもしたしね．</td>\n",
       "      <td>18</td>\n",
       "    </tr>\n",
       "    <tr>\n",
       "      <th>6</th>\n",
       "      <td>AI</td>\n",
       "      <td>温泉とドライブ、最高の組み合わせだね！温泉でリラックスできた上に、ドライブで気分転換もできる...</td>\n",
       "      <td>40</td>\n",
       "    </tr>\n",
       "    <tr>\n",
       "      <th>7</th>\n",
       "      <td>User</td>\n",
       "      <td>海沿い走った</td>\n",
       "      <td>3</td>\n",
       "    </tr>\n",
       "    <tr>\n",
       "      <th>8</th>\n",
       "      <td>AI</td>\n",
       "      <td>海沿いをドライブするのは、本当に気持ちがいいよね。窓から入ってくる潮風や、波の音、それに広が...</td>\n",
       "      <td>48</td>\n",
       "    </tr>\n",
       "    <tr>\n",
       "      <th>9</th>\n",
       "      <td>User</td>\n",
       "      <td>あんまり旅行とか行かないかもー． でも，温泉巡りとかしたいなー．おすすめある？</td>\n",
       "      <td>18</td>\n",
       "    </tr>\n",
       "    <tr>\n",
       "      <th>10</th>\n",
       "      <td>AI</td>\n",
       "      <td>温泉巡り、いいね！日本には本当に素晴らしい温泉がたくさんあるから、選択肢は無限大だよ。例えば...</td>\n",
       "      <td>74</td>\n",
       "    </tr>\n",
       "    <tr>\n",
       "      <th>11</th>\n",
       "      <td>User</td>\n",
       "      <td>地元のそらともりってところは温泉以外にもゆっくりできるスペースがいっぱいあって，良かったな〜...</td>\n",
       "      <td>29</td>\n",
       "    </tr>\n",
       "    <tr>\n",
       "      <th>12</th>\n",
       "      <td>AI</td>\n",
       "      <td>「そらともり」みたいな場所は本当にリラックスできて良いよね！福岡にもいいスパや温泉施設はいく...</td>\n",
       "      <td>81</td>\n",
       "    </tr>\n",
       "    <tr>\n",
       "      <th>13</th>\n",
       "      <td>User</td>\n",
       "      <td>スパの森　うみなか熱いねー．今度行ってみるよ．</td>\n",
       "      <td>14</td>\n",
       "    </tr>\n",
       "    <tr>\n",
       "      <th>14</th>\n",
       "      <td>AI</td>\n",
       "      <td>いいね！「スパの森 うみなか」は本当にいろいろ楽しめるから、きっと良いリラックスタイムになる...</td>\n",
       "      <td>49</td>\n",
       "    </tr>\n",
       "  </tbody>\n",
       "</table>\n",
       "</div>"
      ],
      "text/plain": [
       "   Speaker                                             Detail  UniqueWords\n",
       "0       AI  こんにちは！最近、体を動かしたり、リラックスする時間は取れてるかな？あと、体調はどうだい？何...           33\n",
       "1     User                          体調はめっちゃいいよ．昨日は10時間も寝ちゃった．           13\n",
       "2       AI  それは素晴らしいね！しっかり寝ることができたのは、体にとっても心にとってもいいことだよ。最近...           35\n",
       "3     User                    最近は申請書書いててストレス溜まってるかもー．研究向いてないー           15\n",
       "4       AI  申請書を書くのは確かに大変だよね。研究に向いているかどうかというのは、時として自分でも判断し...           65\n",
       "5     User              このまえ温泉行ったんだけどめっちゃ良かったよ．そのあとドライブもしたしね．           18\n",
       "6       AI  温泉とドライブ、最高の組み合わせだね！温泉でリラックスできた上に、ドライブで気分転換もできる...           40\n",
       "7     User                                             海沿い走った            3\n",
       "8       AI  海沿いをドライブするのは、本当に気持ちがいいよね。窓から入ってくる潮風や、波の音、それに広が...           48\n",
       "9     User            あんまり旅行とか行かないかもー． でも，温泉巡りとかしたいなー．おすすめある？           18\n",
       "10      AI  温泉巡り、いいね！日本には本当に素晴らしい温泉がたくさんあるから、選択肢は無限大だよ。例えば...           74\n",
       "11    User  地元のそらともりってところは温泉以外にもゆっくりできるスペースがいっぱいあって，良かったな〜...           29\n",
       "12      AI  「そらともり」みたいな場所は本当にリラックスできて良いよね！福岡にもいいスパや温泉施設はいく...           81\n",
       "13    User                            スパの森　うみなか熱いねー．今度行ってみるよ．           14\n",
       "14      AI  いいね！「スパの森 うみなか」は本当にいろいろ楽しめるから、きっと良いリラックスタイムになる...           49"
      ]
     },
     "execution_count": 38,
     "metadata": {},
     "output_type": "execute_result"
    }
   ],
   "source": [
    "alpha_data"
   ]
  },
  {
   "cell_type": "code",
   "execution_count": null,
   "metadata": {},
   "outputs": [],
   "source": []
  }
 ],
 "metadata": {
  "kernelspec": {
   "display_name": "study",
   "language": "python",
   "name": "python3"
  },
  "language_info": {
   "codemirror_mode": {
    "name": "ipython",
    "version": 3
   },
   "file_extension": ".py",
   "mimetype": "text/x-python",
   "name": "python",
   "nbconvert_exporter": "python",
   "pygments_lexer": "ipython3",
   "version": "3.10.16"
  }
 },
 "nbformat": 4,
 "nbformat_minor": 2
}
