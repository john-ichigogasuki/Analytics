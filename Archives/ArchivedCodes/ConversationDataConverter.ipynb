{
 "cells": [
  {
   "cell_type": "code",
   "execution_count": 8,
   "metadata": {},
   "outputs": [],
   "source": [
    "import pandas as pd\n",
    "alpha_abe = pd.read_excel('./Archives/ArchivedTalkData/Conventional_Hiraoka.xlsx')\n",
    "beta_abe = pd.read_excel('./Archives/ArchivedTalkData/Suggestion_Hiraoka.xlsx')\n",
    "alpha_abe\n",
    "alpha_abe.to_csv('./TalkData/alpha_Hiraoka.csv', index=False)"
   ]
  },
  {
   "cell_type": "code",
   "execution_count": 13,
   "metadata": {},
   "outputs": [],
   "source": [
    "beta_abe = beta_abe[:10]\n",
    "# beta_abe = beta_abe.drop(beta_abe.columns[2], axis=1)\n",
    "beta_abe.to_csv('./TalkData/beta_Hiraoka.csv', index=False)"
   ]
  },
  {
   "cell_type": "code",
   "execution_count": null,
   "metadata": {},
   "outputs": [],
   "source": []
  }
 ],
 "metadata": {
  "kernelspec": {
   "display_name": "study",
   "language": "python",
   "name": "python3"
  },
  "language_info": {
   "codemirror_mode": {
    "name": "ipython",
    "version": 3
   },
   "file_extension": ".py",
   "mimetype": "text/x-python",
   "name": "python",
   "nbconvert_exporter": "python",
   "pygments_lexer": "ipython3",
   "version": "3.10.16"
  }
 },
 "nbformat": 4,
 "nbformat_minor": 2
}
