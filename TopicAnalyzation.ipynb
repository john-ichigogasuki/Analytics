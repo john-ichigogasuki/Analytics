{
 "cells": [
  {
   "cell_type": "markdown",
   "metadata": {},
   "source": [
    "## 形態素解析の実行\n",
    "- stopwordsによる削除を忘れないように．\n",
    "- なお，保存先はMorphologicalAnalysisになるので，Positive ,Negative,Neutralに再度振り分け必須"
   ]
  },
  {
   "cell_type": "code",
   "execution_count": 8,
   "metadata": {},
   "outputs": [],
   "source": [
    "stopwords = {'今日','✨','**','少ない', 'そう', 'か', 'さ', 'ずっと', 'が', 'も', 'いい', 'ため', 'こと', 'お', '感じ', 'れ', 'って', 'と', 'なり', 'だっ', '例えば', 'すごく', '別', '5', 'ほんと', 'しょ', 'だろ', '考え', '特別', 'する', '。', '本当に', '使っ', 'とき', 'たら', '思う', 'その', '良い', 'カス', '的', '後', 'ず', 'なっ', '：', 'たとえば', 'せ', 'の', 'う', 'なる', '**', 'wは', '中', 'あっ', 'もの', '2', 'よ', 'より', 'ます', 'たしか', 'として', 'ば', 'かけ', 'み', 'じゃ', 'だけ', 'よく', '？', 'ん', '日', 'によって', 'という', 'あり', 'や', '20', '428', '好み', 'です', 'は', 'この', '昔', 'どの', '1', 'それ', 'てる', 'ながら', 'ー', '一つ', '感じ', 'つい', 'ので', 'けど', 'nn', 'でき', 'なら', '確か', 'でも', 'ない', '感じる', '性', 'で', ':', 'どんな', 'それとも', '回', '！', '多い', '思い', 'よう', 'し', 'これ', 'こんにちは', '、', '立っ', '気', '」', 'まし', 'ちょっとした', '感', '少し', 'たり', 'ね', 'て', 'ください', 'あれ', '〜', '，', 'とか', 'について', 'しれ', 'ある', 'な', 'せよ', 'に', '特に', 'られ', '今', 'かも', 'い', 'なく', 'できる', 'ちょっと', 'これら', 'くらい', '室', 'ませ', 'た', 'き', 'だ', 'を', 'でしょ', 'かす', '「', 'でる', '4', 'から', '合わせ', 'なるほど', '何', 'あと', 'しっかり', 'まだ', 'たま', 'がら', 'やっ', 'なんて', '間', '.', 'まで', 'また', 'いる', '．', 'みる', 'どう', 'そんなに', 'など', 'たい', '分', 'さらに', 'られる', '最近', '比べる', '人'}"
   ]
  },
  {
   "cell_type": "code",
   "execution_count": 18,
   "metadata": {},
   "outputs": [
    {
     "name": "stdout",
     "output_type": "stream",
     "text": [
      "Koga のデータを読み込みました。\n",
      "形態素解析を適用しました。\n",
      "頻出単語を集計しました。\n",
      "結果を ./Analyzed/MorphologicalAnalysis/morphologicalAnalyzed_alpha_Koga_frequent_words.csv に保存しました。\n",
      "結果を ./Analyzed/MorphologicalAnalysis/morphologicalAnalyzed_beta_Koga_frequent_words.csv に保存しました。\n"
     ]
    }
   ],
   "source": [
    "import os\n",
    "import pandas as pd\n",
    "import MeCab\n",
    "from collections import Counter\n",
    "\n",
    "# ユーザーに名前を入力させる\n",
    "name = input(\"対象者の名前を入力してください: \")\n",
    "\n",
    "# ファイルのパス設定\n",
    "input_alpha_path = f\"./TalkData/alpha_{name}.csv\"\n",
    "input_beta_path = f\"./TalkData/beta_{name}.csv\"\n",
    "\n",
    "output_alpha_path = f\"./Analyzed/MorphologicalAnalysis/morphologicalAnalyzed_alpha_{name}_frequent_words.csv\"\n",
    "output_beta_path = f\"./Analyzed/MorphologicalAnalysis/morphologicalAnalyzed_beta_{name}_frequent_words.csv\"\n",
    "\n",
    "# データの読み込み\n",
    "if not os.path.exists(input_alpha_path) or not os.path.exists(input_beta_path):\n",
    "    raise FileNotFoundError(\"指定された名前のデータが見つかりません。\")\n",
    "\n",
    "alpha_df = pd.read_csv(input_alpha_path)\n",
    "beta_df = pd.read_csv(input_beta_path)\n",
    "\n",
    "print(f\"{name} のデータを読み込みました。\")\n",
    "\n",
    "# MeCabの初期化\n",
    "tagger = MeCab.Tagger(\"-Owakati -r /opt/homebrew/etc/mecabrc\")\n",
    "\n",
    "# 形態素解析を適用する関数\n",
    "def tokenize_text(text):\n",
    "    if pd.isna(text):\n",
    "        return \"\"\n",
    "    return tagger.parse(text).strip()\n",
    "\n",
    "# データに形態素解析を適用\n",
    "alpha_df[\"Tokenized\"] = alpha_df[\"Detail\"].apply(tokenize_text)\n",
    "beta_df[\"Tokenized\"] = beta_df[\"Detail\"].apply(tokenize_text)\n",
    "\n",
    "print(\"形態素解析を適用しました。\")\n",
    "\n",
    "# ストップワード（不要な単語のリスト）\n",
    "# stopwords = {'**','少ない', 'そう', 'か', 'さ', 'ずっと', 'が', 'も', 'いい', 'ため', 'こと', 'お', '感じ', 'れ', 'って', 'と', 'なり', 'だっ', '例えば', 'すごく', '別', '5', 'ほんと', 'しょ', 'だろ', '考え', '特別', 'する', '。', '本当に', '使っ', 'とき', 'たら', '思う', 'その', '良い', 'カス', '的', '後', 'ず', 'なっ', '：', 'たとえば', 'せ', 'の', 'う', 'なる', '**', 'wは', '中', 'あっ', 'もの', '2', 'よ', 'より', 'ます', 'たしか', 'として', 'ば', 'かけ', 'み', 'じゃ', 'だけ', 'よく', '？', 'ん', '日', 'によって', 'という', 'あり', 'や', '20', '428', '好み', 'です', 'は', 'この', '昔', 'どの', '1', 'それ', 'てる', 'ながら', 'ー', '一つ', '感じ', 'つい', 'ので', 'けど', 'nn', 'でき', 'なら', '確か', 'でも', 'ない', '感じる', '性', 'で', ':', 'どんな', 'それとも', '回', '！', '多い', '思い', 'よう', 'し', 'これ', 'こんにちは', '、', '立っ', '気', '」', 'まし', 'ちょっとした', '感', '少し', 'たり', 'ね', 'て', 'ください', 'あれ', '〜', '，', 'とか', 'について', 'しれ', 'ある', 'な', 'せよ', 'に', '特に', 'られ', '今', 'かも', 'い', 'なく', 'できる', 'ちょっと', 'これら', 'くらい', '室', 'ませ', 'た', 'き', 'だ', 'を', 'でしょ', 'かす', '「', 'でる', '4', 'から', '合わせ', 'なるほど', '何', 'あと', 'しっかり', 'まだ', 'たま', 'がら', 'やっ', 'なんて', '間', '.', 'まで', 'また', 'いる', '．', 'みる', 'どう', 'そんなに', 'など', 'たい', '分', 'さらに', 'られる', '最近', '比べる', '人'}\n",
    "\n",
    "# 頻出単語を集計する関数\n",
    "def count_frequent_words(df):\n",
    "    all_words = []\n",
    "    for text in df[\"Tokenized\"]:\n",
    "        words = text.split()\n",
    "        words = [word for word in words if word not in stopwords]\n",
    "        all_words.extend(words)\n",
    "\n",
    "    return Counter(all_words)\n",
    "\n",
    "# 頻出単語を取得\n",
    "alpha_word_counts = count_frequent_words(alpha_df)\n",
    "beta_word_counts = count_frequent_words(beta_df)\n",
    "\n",
    "print(\"頻出単語を集計しました。\")\n",
    "\n",
    "# 頻出単語の上位50単語をデータフレームに変換\n",
    "alpha_word_df = pd.DataFrame(alpha_word_counts.most_common(50), columns=[\"Word\", \"Count\"])\n",
    "beta_word_df = pd.DataFrame(beta_word_counts.most_common(50), columns=[\"Word\", \"Count\"])\n",
    "\n",
    "# 結果を保存\n",
    "alpha_word_df.to_csv(output_alpha_path, index=False, encoding=\"utf-8-sig\")\n",
    "beta_word_df.to_csv(output_beta_path, index=False, encoding=\"utf-8-sig\")\n",
    "\n",
    "print(f\"結果を {output_alpha_path} に保存しました。\")\n",
    "print(f\"結果を {output_beta_path} に保存しました。\")"
   ]
  },
  {
   "cell_type": "code",
   "execution_count": null,
   "metadata": {},
   "outputs": [],
   "source": []
  },
  {
   "cell_type": "code",
   "execution_count": 8,
   "metadata": {},
   "outputs": [],
   "source": [
    "stopwords = {'**','少ない', 'そう', 'か', 'さ', 'ずっと', 'が', 'も', 'いい', 'ため', 'こと', 'お', '感じ', 'れ', 'って', 'と', 'なり', 'だっ', '例えば', 'すごく', '別', '5', 'ほんと', 'しょ', 'だろ', '考え', '特別', 'する', '。', '本当に', '使っ', 'とき', 'たら', '思う', 'その', '良い', 'カス', '的', '後', 'ず', 'なっ', '：', 'たとえば', 'せ', 'の', 'う', 'なる', '**', 'wは', '中', 'あっ', 'もの', '2', 'よ', 'より', 'ます', 'たしか', 'として', 'ば', 'かけ', 'み', 'じゃ', 'だけ', 'よく', '？', 'ん', '日', 'によって', 'という', 'あり', 'や', '20', '428', '好み', 'です', 'は', 'この', '昔', 'どの', '1', 'それ', 'てる', 'ながら', 'ー', '一つ', '感じ', 'つい', 'ので', 'けど', 'nn', 'でき', 'なら', '確か', 'でも', 'ない', '感じる', '性', 'で', ':', 'どんな', 'それとも', '回', '！', '多い', '思い', 'よう', 'し', 'これ', 'こんにちは', '、', '立っ', '気', '」', 'まし', 'ちょっとした', '感', '少し', 'たり', 'ね', 'て', 'ください', 'あれ', '〜', '，', 'とか', 'について', 'しれ', 'ある', 'な', 'せよ', 'に', '特に', 'られ', '今', 'かも', 'い', 'なく', 'できる', 'ちょっと', 'これら', 'くらい', '室', 'ませ', 'た', 'き', 'だ', 'を', 'でしょ', 'かす', '「', 'でる', '4', 'から', '合わせ', 'なるほど', '何', 'あと', 'しっかり', 'まだ', 'たま', 'がら', 'やっ', 'なんて', '間', '.', 'まで', 'また', 'いる', '．', 'みる', 'どう', 'そんなに', 'など', 'たい', '分', 'さらに', 'られる', '最近', '比べる', '人'}\n"
   ]
  },
  {
   "cell_type": "code",
   "execution_count": 9,
   "metadata": {},
   "outputs": [
    {
     "name": "stdout",
     "output_type": "stream",
     "text": [
      "作成した省くセット: {'中', 'さらに', 'ない', 'とき', 'より', 'しれ', 'って', 'の', 'できる', '今', '：', 'が', 'ば', 'しょ', '考え', 'あれ', 'てる', 'かす', 'だっ', 'その', '何', 'です', 'ので', 'こんにちは', '的', 'でき', '確か', '4', '室', 'によって', 'き', '後', '！', 'まだ', 'う', 'なる', 'あり', 'い', '〜', 'ます', 'なるほど', 'たり', 'ん', 'れ', 'ず', 'とか', 'すごく', 'ね', 'せよ', 'し', '特別', '本当に', '分', 'でしょ', 'この', '感じる', '**', '気', 'そう', '始め', '感じ', 'まで', '少し', 'また', 'ほんと', '多い', 'たい', '感', 'でる', 'つい', '立っ', 'さ', 'まし', 'そんなに', '良い', '比べる', 'たとえば', 'でも', 'wは', 'られる', 'せ', 'られ', 'それ', '例えば', 'ちょっと', 'ちょっとした', '好み', 'する', '一つ', 'これ', 'て', '，', '「', 'よう', 'あっ', 'たま', 'これら', 'について', 'しっかり', 'nn', '2', 'けど', 'ある', 'いい', 'たら', 'よ', 'として', 'よく', '、', '」', '1', 'ずっと', 'かも', 'PS', 'も', 'み', 'たしか', 'ながら', 'だろ', 'かけ', 'という', '日', 'くらい', 'どんな', 'ませ', 'ください', 'なんて', 'いる', 'どう', 'など', 'それとも', 'な', '合わせ', 'ー', 'どの', 'がら', '間', 'なく', 'を', '回', 'や', 'あと', 'だけ', 'で', '性', 'なっ', 'か', 'と', '使っ', 'なり', 'だ', '.', 'もの', '昔', 'お', 'なら', '少ない', 'から', '．', '思い', 'た', 'ため', 'みる', '。', '5', 'カス', ':', '人', 'こと', '特に', 'は', '20', '？', '思う', 'に', 'やっ', '別', '最近', '428', 'じゃ'}\n"
     ]
    }
   ],
   "source": [
    "while True:\n",
    "    word = input(\"省きたい単語を入力してください（何も入力せずにEnterで終了）: \")\n",
    "    if word == \"\":\n",
    "        break\n",
    "    stopwords.add(word)\n",
    "\n",
    "print(\"作成した省くセット:\", stopwords)"
   ]
  },
  {
   "cell_type": "markdown",
   "metadata": {},
   "source": [
    "## トピック分析の実施"
   ]
  },
  {
   "cell_type": "code",
   "execution_count": 5,
   "metadata": {},
   "outputs": [
    {
     "name": "stdout",
     "output_type": "stream",
     "text": [
      "Koga のデータを読み込みました。\n",
      "形態素解析を適用しました。\n",
      "トピックモデリングを実行しました。\n",
      "結果を ./Analyzed/LDA/lda_alpha_Koga.csv に保存しました。\n",
      "結果を ./Analyzed/LDA/lda_beta_Koga.csv に保存しました。\n"
     ]
    }
   ],
   "source": [
    "import os\n",
    "import pandas as pd\n",
    "import MeCab\n",
    "from gensim import corpora, models\n",
    "\n",
    "# ユーザーに名前を入力させる\n",
    "name = input(\"対象者の名前を入力してください: \")\n",
    "\n",
    "# ファイルのパス設定\n",
    "input_alpha_path = f\"./TalkData/alpha_{name}.csv\"\n",
    "input_beta_path = f\"./TalkData/beta_{name}.csv\"\n",
    "\n",
    "output_alpha_path = f\"./Analyzed/LDA/lda_alpha_{name}.csv\"\n",
    "output_beta_path = f\"./Analyzed/LDA/lda_beta_{name}.csv\"\n",
    "\n",
    "# データの読み込み\n",
    "if not os.path.exists(input_alpha_path) or not os.path.exists(input_beta_path):\n",
    "    raise FileNotFoundError(\"指定された名前のデータが見つかりません。\")\n",
    "\n",
    "alpha_df = pd.read_csv(input_alpha_path)\n",
    "beta_df = pd.read_csv(input_beta_path)\n",
    "\n",
    "print(f\"{name} のデータを読み込みました。\")\n",
    "\n",
    "# MeCabの初期化\n",
    "# (辞書パスが異なる場合は適宜 -r /opt/homebrew/etc/mecabrc -d の指定を変更)\n",
    "tagger = MeCab.Tagger(\"-Owakati -r /opt/homebrew/etc/mecabrc\")\n",
    "\n",
    "# 形態素解析を適用する関数\n",
    "def tokenize_text(text):\n",
    "    \"\"\"文字列を分かち書きし、空白区切り文字列として返す\"\"\"\n",
    "    if pd.isna(text):\n",
    "        return \"\"\n",
    "    return tagger.parse(text).strip()\n",
    "\n",
    "# データに形態素解析を適用\n",
    "alpha_df[\"Tokenized\"] = alpha_df[\"Detail\"].apply(tokenize_text)\n",
    "beta_df[\"Tokenized\"] = beta_df[\"Detail\"].apply(tokenize_text)\n",
    "\n",
    "print(\"形態素解析を適用しました。\")\n",
    "\n",
    "# トピック数を設定\n",
    "num_topics = 3\n",
    "\n",
    "# トピックモデリング（Gensimのみ）を実行する関数\n",
    "def perform_lda(df, num_topics):\n",
    "    # df[\"Tokenized\"] は空白区切り文字列なので、split()してリスト化\n",
    "    texts = []\n",
    "    for doc in df[\"Tokenized\"]:\n",
    "        tokens = doc.split()\n",
    "        # ストップワード除外\n",
    "        filtered_tokens = [t for t in tokens if t not in stopwords]\n",
    "        texts.append(filtered_tokens)\n",
    "\n",
    "    # GensimのDictionaryを作成（単語→IDマッピング）\n",
    "    dictionary = corpora.Dictionary(texts)\n",
    "\n",
    "    # doc2bowで、各ドキュメントを (単語ID, 出現回数) のリストに変換\n",
    "    corpus = [dictionary.doc2bow(text) for text in texts]\n",
    "\n",
    "    # LDAモデルを学習\n",
    "    lda_model = models.LdaModel(\n",
    "        corpus=corpus,\n",
    "        id2word=dictionary,\n",
    "        num_topics=num_topics,\n",
    "        random_state=42\n",
    "    )\n",
    "\n",
    "    return lda_model, dictionary\n",
    "\n",
    "# LDAを適用\n",
    "alpha_lda, alpha_dict = perform_lda(alpha_df, num_topics)\n",
    "beta_lda, beta_dict = perform_lda(beta_df, num_topics)\n",
    "\n",
    "print(\"トピックモデリングを実行しました。\")\n",
    "\n",
    "# トピックごとの単語を取得\n",
    "def get_topic_words(lda_model, dictionary, num_words=10):\n",
    "    topics = []\n",
    "    for topic_id in range(num_topics):\n",
    "        # topic_terms は [(word_id, 出現確率), ... ] の形\n",
    "        topic_terms = lda_model.get_topic_terms(topic_id, num_words)\n",
    "        # dictionary[word_id] を用いてID→単語に変換\n",
    "        topic_words = [dictionary[word_id] for word_id, _ in topic_terms]\n",
    "        topics.append(\", \".join(topic_words))\n",
    "    return topics\n",
    "\n",
    "alpha_topics = get_topic_words(alpha_lda, alpha_dict)\n",
    "beta_topics  = get_topic_words(beta_lda,  beta_dict)\n",
    "\n",
    "# トピックの結果を保存\n",
    "alpha_topic_df = pd.DataFrame({\n",
    "    \"Topic\": range(1, num_topics + 1),\n",
    "    \"Top Words\": alpha_topics\n",
    "})\n",
    "beta_topic_df = pd.DataFrame({\n",
    "    \"Topic\": range(1, num_topics + 1),\n",
    "    \"Top Words\": beta_topics\n",
    "})\n",
    "\n",
    "alpha_topic_df.to_csv(output_alpha_path, index=False, encoding=\"utf-8-sig\")\n",
    "beta_topic_df.to_csv(output_beta_path, index=False, encoding=\"utf-8-sig\")\n",
    "\n",
    "print(f\"結果を {output_alpha_path} に保存しました。\")\n",
    "print(f\"結果を {output_beta_path} に保存しました。\")\n"
   ]
  },
  {
   "cell_type": "markdown",
   "metadata": {},
   "source": []
  },
  {
   "cell_type": "code",
   "execution_count": null,
   "metadata": {},
   "outputs": [],
   "source": []
  },
  {
   "cell_type": "code",
   "execution_count": 94,
   "metadata": {},
   "outputs": [],
   "source": [
    "import pandas as pd\n",
    "alpha_data = pd.read_csv(\"./Evaluation/data_alpha.csv\")\n",
    "beta_data = pd.read_csv(\"./Evaluation/data_beta.csv\")\n"
   ]
  },
  {
   "cell_type": "code",
   "execution_count": 95,
   "metadata": {},
   "outputs": [
    {
     "data": {
      "text/html": [
       "<div>\n",
       "<style scoped>\n",
       "    .dataframe tbody tr th:only-of-type {\n",
       "        vertical-align: middle;\n",
       "    }\n",
       "\n",
       "    .dataframe tbody tr th {\n",
       "        vertical-align: top;\n",
       "    }\n",
       "\n",
       "    .dataframe thead th {\n",
       "        text-align: right;\n",
       "    }\n",
       "</style>\n",
       "<table border=\"1\" class=\"dataframe\">\n",
       "  <thead>\n",
       "    <tr style=\"text-align: right;\">\n",
       "      <th></th>\n",
       "      <th>name</th>\n",
       "      <th>thoughtfulness_a</th>\n",
       "    </tr>\n",
       "  </thead>\n",
       "  <tbody>\n",
       "    <tr>\n",
       "      <th>0</th>\n",
       "      <td>酒井</td>\n",
       "      <td>3.0</td>\n",
       "    </tr>\n",
       "    <tr>\n",
       "      <th>1</th>\n",
       "      <td>二村</td>\n",
       "      <td>3.0</td>\n",
       "    </tr>\n",
       "    <tr>\n",
       "      <th>2</th>\n",
       "      <td>パン</td>\n",
       "      <td>3.0</td>\n",
       "    </tr>\n",
       "    <tr>\n",
       "      <th>3</th>\n",
       "      <td>尾山</td>\n",
       "      <td>6.0</td>\n",
       "    </tr>\n",
       "    <tr>\n",
       "      <th>4</th>\n",
       "      <td>藤本</td>\n",
       "      <td>3.0</td>\n",
       "    </tr>\n",
       "    <tr>\n",
       "      <th>5</th>\n",
       "      <td>塩尻</td>\n",
       "      <td>5.0</td>\n",
       "    </tr>\n",
       "    <tr>\n",
       "      <th>6</th>\n",
       "      <td>安倍</td>\n",
       "      <td>4.0</td>\n",
       "    </tr>\n",
       "    <tr>\n",
       "      <th>7</th>\n",
       "      <td>平岡</td>\n",
       "      <td>3.0</td>\n",
       "    </tr>\n",
       "    <tr>\n",
       "      <th>8</th>\n",
       "      <td>森</td>\n",
       "      <td>5.0</td>\n",
       "    </tr>\n",
       "    <tr>\n",
       "      <th>9</th>\n",
       "      <td>須藤</td>\n",
       "      <td>2.0</td>\n",
       "    </tr>\n",
       "  </tbody>\n",
       "</table>\n",
       "</div>"
      ],
      "text/plain": [
       "  name  thoughtfulness_a\n",
       "0   酒井               3.0\n",
       "1   二村               3.0\n",
       "2   パン               3.0\n",
       "3   尾山               6.0\n",
       "4   藤本               3.0\n",
       "5   塩尻               5.0\n",
       "6   安倍               4.0\n",
       "7   平岡               3.0\n",
       "8    森               5.0\n",
       "9   須藤               2.0"
      ]
     },
     "execution_count": 95,
     "metadata": {},
     "output_type": "execute_result"
    }
   ],
   "source": [
    "alpha_data = alpha_data[['name', 'thoughtfulness']]\n",
    "alpha_data = alpha_data[['name', 'thoughtfulness']].rename(columns={'thoughtfulness': 'thoughtfulness_a'})\n",
    "alpha_data"
   ]
  },
  {
   "cell_type": "code",
   "execution_count": 96,
   "metadata": {},
   "outputs": [
    {
     "data": {
      "text/html": [
       "<div>\n",
       "<style scoped>\n",
       "    .dataframe tbody tr th:only-of-type {\n",
       "        vertical-align: middle;\n",
       "    }\n",
       "\n",
       "    .dataframe tbody tr th {\n",
       "        vertical-align: top;\n",
       "    }\n",
       "\n",
       "    .dataframe thead th {\n",
       "        text-align: right;\n",
       "    }\n",
       "</style>\n",
       "<table border=\"1\" class=\"dataframe\">\n",
       "  <thead>\n",
       "    <tr style=\"text-align: right;\">\n",
       "      <th></th>\n",
       "      <th>name</th>\n",
       "      <th>thoughtfulness_b</th>\n",
       "    </tr>\n",
       "  </thead>\n",
       "  <tbody>\n",
       "    <tr>\n",
       "      <th>0</th>\n",
       "      <td>酒井</td>\n",
       "      <td>4</td>\n",
       "    </tr>\n",
       "    <tr>\n",
       "      <th>1</th>\n",
       "      <td>二村</td>\n",
       "      <td>6</td>\n",
       "    </tr>\n",
       "    <tr>\n",
       "      <th>2</th>\n",
       "      <td>パン</td>\n",
       "      <td>4</td>\n",
       "    </tr>\n",
       "    <tr>\n",
       "      <th>3</th>\n",
       "      <td>尾山</td>\n",
       "      <td>6</td>\n",
       "    </tr>\n",
       "    <tr>\n",
       "      <th>4</th>\n",
       "      <td>藤本</td>\n",
       "      <td>4</td>\n",
       "    </tr>\n",
       "    <tr>\n",
       "      <th>5</th>\n",
       "      <td>塩尻</td>\n",
       "      <td>5</td>\n",
       "    </tr>\n",
       "    <tr>\n",
       "      <th>6</th>\n",
       "      <td>安倍</td>\n",
       "      <td>3</td>\n",
       "    </tr>\n",
       "    <tr>\n",
       "      <th>7</th>\n",
       "      <td>平岡</td>\n",
       "      <td>5</td>\n",
       "    </tr>\n",
       "    <tr>\n",
       "      <th>8</th>\n",
       "      <td>森</td>\n",
       "      <td>6</td>\n",
       "    </tr>\n",
       "    <tr>\n",
       "      <th>9</th>\n",
       "      <td>須藤</td>\n",
       "      <td>5</td>\n",
       "    </tr>\n",
       "  </tbody>\n",
       "</table>\n",
       "</div>"
      ],
      "text/plain": [
       "  name  thoughtfulness_b\n",
       "0   酒井                 4\n",
       "1   二村                 6\n",
       "2   パン                 4\n",
       "3   尾山                 6\n",
       "4   藤本                 4\n",
       "5   塩尻                 5\n",
       "6   安倍                 3\n",
       "7   平岡                 5\n",
       "8    森                 6\n",
       "9   須藤                 5"
      ]
     },
     "execution_count": 96,
     "metadata": {},
     "output_type": "execute_result"
    }
   ],
   "source": [
    "beta_data = beta_data[['name', 'thoughtfulness']]\n",
    "beta_data = beta_data[['name', 'thoughtfulness']].rename(columns={'thoughtfulness': 'thoughtfulness_b'})\n",
    "beta_data"
   ]
  },
  {
   "cell_type": "code",
   "execution_count": 89,
   "metadata": {},
   "outputs": [],
   "source": [
    "data = pd.concat([alpha_data.set_index('name'), beta_data.set_index('name')],axis=1).reset_index()"
   ]
  },
  {
   "cell_type": "code",
   "execution_count": 97,
   "metadata": {},
   "outputs": [],
   "source": [
    "data['thoughtfulness_a'] = data['thoughtfulness_a'].astype(int)"
   ]
  },
  {
   "cell_type": "code",
   "execution_count": 98,
   "metadata": {},
   "outputs": [
    {
     "data": {
      "text/html": [
       "<div>\n",
       "<style scoped>\n",
       "    .dataframe tbody tr th:only-of-type {\n",
       "        vertical-align: middle;\n",
       "    }\n",
       "\n",
       "    .dataframe tbody tr th {\n",
       "        vertical-align: top;\n",
       "    }\n",
       "\n",
       "    .dataframe thead th {\n",
       "        text-align: right;\n",
       "    }\n",
       "</style>\n",
       "<table border=\"1\" class=\"dataframe\">\n",
       "  <thead>\n",
       "    <tr style=\"text-align: right;\">\n",
       "      <th></th>\n",
       "      <th>name</th>\n",
       "      <th>thoughtfulness_a</th>\n",
       "      <th>thoughtfulness_b</th>\n",
       "    </tr>\n",
       "  </thead>\n",
       "  <tbody>\n",
       "    <tr>\n",
       "      <th>0</th>\n",
       "      <td>酒井</td>\n",
       "      <td>3</td>\n",
       "      <td>4</td>\n",
       "    </tr>\n",
       "    <tr>\n",
       "      <th>1</th>\n",
       "      <td>二村</td>\n",
       "      <td>3</td>\n",
       "      <td>6</td>\n",
       "    </tr>\n",
       "    <tr>\n",
       "      <th>2</th>\n",
       "      <td>パン</td>\n",
       "      <td>3</td>\n",
       "      <td>4</td>\n",
       "    </tr>\n",
       "    <tr>\n",
       "      <th>3</th>\n",
       "      <td>尾山</td>\n",
       "      <td>6</td>\n",
       "      <td>6</td>\n",
       "    </tr>\n",
       "    <tr>\n",
       "      <th>4</th>\n",
       "      <td>藤本</td>\n",
       "      <td>3</td>\n",
       "      <td>4</td>\n",
       "    </tr>\n",
       "    <tr>\n",
       "      <th>5</th>\n",
       "      <td>塩尻</td>\n",
       "      <td>5</td>\n",
       "      <td>5</td>\n",
       "    </tr>\n",
       "    <tr>\n",
       "      <th>6</th>\n",
       "      <td>安倍</td>\n",
       "      <td>4</td>\n",
       "      <td>3</td>\n",
       "    </tr>\n",
       "    <tr>\n",
       "      <th>7</th>\n",
       "      <td>平岡</td>\n",
       "      <td>3</td>\n",
       "      <td>5</td>\n",
       "    </tr>\n",
       "    <tr>\n",
       "      <th>8</th>\n",
       "      <td>森</td>\n",
       "      <td>5</td>\n",
       "      <td>6</td>\n",
       "    </tr>\n",
       "    <tr>\n",
       "      <th>9</th>\n",
       "      <td>須藤</td>\n",
       "      <td>2</td>\n",
       "      <td>5</td>\n",
       "    </tr>\n",
       "  </tbody>\n",
       "</table>\n",
       "</div>"
      ],
      "text/plain": [
       "  name  thoughtfulness_a  thoughtfulness_b\n",
       "0   酒井                 3                 4\n",
       "1   二村                 3                 6\n",
       "2   パン                 3                 4\n",
       "3   尾山                 6                 6\n",
       "4   藤本                 3                 4\n",
       "5   塩尻                 5                 5\n",
       "6   安倍                 4                 3\n",
       "7   平岡                 3                 5\n",
       "8    森                 5                 6\n",
       "9   須藤                 2                 5"
      ]
     },
     "execution_count": 98,
     "metadata": {},
     "output_type": "execute_result"
    }
   ],
   "source": [
    "data"
   ]
  },
  {
   "cell_type": "markdown",
   "metadata": {},
   "source": [
    "## 形態素解析結果による棒グラフの作成"
   ]
  },
  {
   "cell_type": "code",
   "execution_count": 21,
   "metadata": {},
   "outputs": [],
   "source": [
    "!rm  -rf ~/.cache/matplotlib"
   ]
  },
  {
   "cell_type": "code",
   "execution_count": 22,
   "metadata": {},
   "outputs": [
    {
     "ename": "AttributeError",
     "evalue": "module 'matplotlib.font_manager' has no attribute '_rebuild'",
     "output_type": "error",
     "traceback": [
      "\u001b[0;31m---------------------------------------------------------------------------\u001b[0m",
      "\u001b[0;31mAttributeError\u001b[0m                            Traceback (most recent call last)",
      "Cell \u001b[0;32mIn[22], line 2\u001b[0m\n\u001b[1;32m      1\u001b[0m \u001b[38;5;28;01mimport\u001b[39;00m\u001b[38;5;250m \u001b[39m\u001b[38;5;21;01mmatplotlib\u001b[39;00m\u001b[38;5;21;01m.\u001b[39;00m\u001b[38;5;21;01mfont_manager\u001b[39;00m\n\u001b[0;32m----> 2\u001b[0m \u001b[43mmatplotlib\u001b[49m\u001b[38;5;241;43m.\u001b[39;49m\u001b[43mfont_manager\u001b[49m\u001b[38;5;241;43m.\u001b[39;49m\u001b[43m_rebuild\u001b[49m()\n",
      "\u001b[0;31mAttributeError\u001b[0m: module 'matplotlib.font_manager' has no attribute '_rebuild'"
     ]
    }
   ],
   "source": [
    "import matplotlib.font_manager\n",
    "matplotlib.font_manager._rebuild()\n"
   ]
  },
  {
   "cell_type": "code",
   "execution_count": 3,
   "metadata": {},
   "outputs": [
    {
     "data": {
      "image/png": "[encoded data removed]",
      "text/plain": [
       "<Figure size 1200x600 with 1 Axes>"
      ]
     },
     "metadata": {},
     "output_type": "display_data"
    },
    {
     "name": "stdout",
     "output_type": "stream",
     "text": [
      "棒グラフを ./Analyzed/MorphologicalAnalysis/Positive_morphological_frequent_words.png に保存しました。\n"
     ]
    }
   ],
   "source": [
    "import os\n",
    "import japanize_matplotlib\n",
    "import pandas as pd\n",
    "import matplotlib.pyplot as plt\n",
    "import matplotlib.font_manager as fm\n",
    "from collections import Counter\n",
    "\n",
    "\n",
    "morphological_dir = \"./Analyzed/MorphologicalAnalysis/Positive_morphological/\"\n",
    "morph_files = [f for f in os.listdir(morphological_dir) if f.endswith(\".csv\")]\n",
    "\n",
    "word_counts = Counter()\n",
    "\n",
    "# すべてのファイルを処理\n",
    "for file in morph_files:\n",
    "    file_path = os.path.join(morphological_dir, file)\n",
    "    \n",
    "    # CSVを読み込む（フォーマット：Word,Count）\n",
    "    df = pd.read_csv(file_path)\n",
    "    \n",
    "    # 各単語の出現回数を加算\n",
    "    for _, row in df.iterrows():\n",
    "        word_counts[row[\"Word\"]] += row[\"Count\"]\n",
    "\n",
    "\n",
    "# 上位20単語を取得\n",
    "top_words = word_counts.most_common(20)\n",
    "\n",
    "# グラフ用データ作成\n",
    "words, counts = zip(*top_words)\n",
    "\n",
    "# グラフの作成\n",
    "plt.figure(figsize=(12, 6))\n",
    "plt.barh(words[::-1], counts[::-1], color=\"skyblue\")  # 上位の単語が上に来るように[::-1]で反転\n",
    "plt.xlabel(\"出現回数\")\n",
    "plt.ylabel(\"単語\")\n",
    "# plt.title(\"思慮深さを感じた群における頻出単語\")\n",
    "plt.grid(axis=\"x\", linestyle=\"--\", alpha=0.7)\n",
    "\n",
    "# 画像として保存\n",
    "plt.savefig(\"./Analyzed/MorphologicalAnalysis/Positive_morphological_frequent_words.png\", dpi=300, bbox_inches=\"tight\")\n",
    "plt.show()\n",
    "\n",
    "print(\"棒グラフを ./Analyzed/MorphologicalAnalysis/Positive_morphological_frequent_words.png に保存しました。\")\n"
   ]
  },
  {
   "cell_type": "code",
   "execution_count": 4,
   "metadata": {},
   "outputs": [
    {
     "name": "stdout",
     "output_type": "stream",
     "text": [
      "[('時間', 32), ('運動', 25), ('研究', 22), ('論文', 18), ('好き', 17), ('体', 15), ('ゲーム', 15), ('瞬き', 14), ('数', 13), ('カロリー', 13), ('筋', 12), ('トレ', 12), ('心拍', 12), ('効果', 12), ('作業', 12), ('集中', 12), ('方法', 12), ('ハンドボール', 11), ('空気', 11), ('気分', 10)]\n"
     ]
    }
   ],
   "source": [
    "print(top_words)"
   ]
  },
  {
   "cell_type": "code",
   "execution_count": 5,
   "metadata": {},
   "outputs": [
    {
     "data": {
      "image/png": "[encoded data removed]",
      "text/plain": [
       "<Figure size 1200x600 with 1 Axes>"
      ]
     },
     "metadata": {},
     "output_type": "display_data"
    },
    {
     "name": "stdout",
     "output_type": "stream",
     "text": [
      "棒グラフを ./Analyzed/MorphologicalAnalysis/Negative_morphological_frequent_words.png に保存しました。\n"
     ]
    }
   ],
   "source": [
    "import os\n",
    "import japanize_matplotlib\n",
    "import pandas as pd\n",
    "import matplotlib.pyplot as plt\n",
    "import matplotlib.font_manager as fm\n",
    "from collections import Counter\n",
    "\n",
    "morphological_dir = \"./Analyzed/MorphologicalAnalysis/Negative_morphological/\"\n",
    "morph_files = [f for f in os.listdir(morphological_dir) if f.endswith(\".csv\")]\n",
    "\n",
    "# 全単語の頻度を記録する辞書\n",
    "word_counts = Counter()\n",
    "\n",
    "# すべてのファイルを処理\n",
    "for file in morph_files:\n",
    "    file_path = os.path.join(morphological_dir, file)\n",
    "    \n",
    "    # CSVを読み込む（フォーマット：Word,Count）\n",
    "    df = pd.read_csv(file_path)\n",
    "    \n",
    "    # 各単語の出現回数を加算\n",
    "    for _, row in df.iterrows():\n",
    "        word_counts[row[\"Word\"]] += row[\"Count\"]\n",
    "\n",
    "\n",
    "# 上位20単語を取得\n",
    "top_words = word_counts.most_common(20)\n",
    "\n",
    "words, counts = zip(*top_words)\n",
    "\n",
    "# グラフの作成\n",
    "plt.figure(figsize=(12, 6))\n",
    "plt.barh(words[::-1], counts[::-1], color=\"skyblue\")  # 上位の単語が上に来るように[::-1]で反転\n",
    "plt.xlabel(\"出現回数\")\n",
    "plt.ylabel(\"単語\")\n",
    "# plt.title(\"思慮深さを感じなかった群における頻出単語\")\n",
    "plt.grid(axis=\"x\", linestyle=\"--\", alpha=0.7)\n",
    "\n",
    "# 画像として保存\n",
    "plt.savefig(\"./Analyzed/MorphologicalAnalysis/Negative_morphological_frequent_words.png\", dpi=300, bbox_inches=\"tight\")\n",
    "plt.show()\n",
    "\n",
    "print(\"棒グラフを ./Analyzed/MorphologicalAnalysis/Negative_morphological_frequent_words.png に保存しました。\")"
   ]
  },
  {
   "cell_type": "code",
   "execution_count": 6,
   "metadata": {},
   "outputs": [
    {
     "name": "stdout",
     "output_type": "stream",
     "text": [
      "[('時間', 27), ('研究', 23), ('脳', 20), ('ゲーム', 19), ('対話', 19), ('運動', 18), ('システム', 18), ('体', 17), ('温泉', 16), ('方法', 13), ('興味', 12), ('自然', 11), ('科学', 11), ('ポケモン', 10), ('体調', 10), ('好き', 9), ('テーマ', 9), ('処理', 9), ('始め', 9), ('瞑想', 9)]\n"
     ]
    }
   ],
   "source": [
    "print(top_words)"
   ]
  },
  {
   "cell_type": "code",
   "execution_count": null,
   "metadata": {},
   "outputs": [],
   "source": []
  }
 ],
 "metadata": {
  "kernelspec": {
   "display_name": "newenv",
   "language": "python",
   "name": "python3"
  },
  "language_info": {
   "codemirror_mode": {
    "name": "ipython",
    "version": 3
   },
   "file_extension": ".py",
   "mimetype": "text/x-python",
   "name": "python",
   "nbconvert_exporter": "python",
   "pygments_lexer": "ipython3",
   "version": "3.10.16"
  }
 },
 "nbformat": 4,
 "nbformat_minor": 2
}
