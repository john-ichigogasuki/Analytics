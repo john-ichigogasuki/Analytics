{
 "cells": [
  {
   "cell_type": "code",
   "execution_count": 17,
   "metadata": {},
   "outputs": [
    {
     "name": "stdout",
     "output_type": "stream",
     "text": [
      "Suto のデータを読み込みました。\n",
      "形態素解析を適用しました。\n",
      "頻出単語を集計しました。\n",
      "結果を ./Analyzed/MorphologicalAnalysis/morphorogicalcalAnalyzed_alpha_Suto_frequent_words.csv に保存しました。\n",
      "結果を ./Analyzed/MorphologicalAnalysis/morphologicalAnalyzed_beta_Suto_frequent_words.csv に保存しました。\n"
     ]
    }
   ],
   "source": [
    "import os\n",
    "import pandas as pd\n",
    "import MeCab\n",
    "from collections import Counter\n",
    "\n",
    "# ユーザーに名前を入力させる\n",
    "name = input(\"対象者の名前を入力してください: \")\n",
    "\n",
    "# ファイルのパス設定\n",
    "input_alpha_path = f\"./TalkData/alpha_{name}.csv\"\n",
    "input_beta_path = f\"./TalkData/beta_{name}.csv\"\n",
    "\n",
    "output_alpha_path = f\"./Analyzed/MorphologicalAnalysis/morphorogicalcalAnalyzed_alpha_{name}_frequent_words.csv\"\n",
    "output_beta_path = f\"./Analyzed/MorphologicalAnalysis/morphologicalAnalyzed_beta_{name}_frequent_words.csv\"\n",
    "\n",
    "# データの読み込み\n",
    "if not os.path.exists(input_alpha_path) or not os.path.exists(input_beta_path):\n",
    "    raise FileNotFoundError(\"指定された名前のデータが見つかりません。\")\n",
    "\n",
    "alpha_df = pd.read_csv(input_alpha_path)\n",
    "beta_df = pd.read_csv(input_beta_path)\n",
    "\n",
    "print(f\"{name} のデータを読み込みました。\")\n",
    "\n",
    "# MeCabの初期化\n",
    "tagger = MeCab.Tagger(\"-Owakati\")\n",
    "\n",
    "# 形態素解析を適用する関数\n",
    "def tokenize_text(text):\n",
    "    if pd.isna(text):\n",
    "        return \"\"\n",
    "    return tagger.parse(text).strip()\n",
    "\n",
    "# データに形態素解析を適用\n",
    "alpha_df[\"Tokenized\"] = alpha_df[\"Detail\"].apply(tokenize_text)\n",
    "beta_df[\"Tokenized\"] = beta_df[\"Detail\"].apply(tokenize_text)\n",
    "\n",
    "print(\"形態素解析を適用しました。\")\n",
    "\n",
    "# ストップワード（不要な単語のリスト）\n",
    "stopwords = set([\"は\", \"が\", \"の\", \"です\", \"ます\", \"を\", \"に\", \"で\", \"と\", \"も\", \"ない\", \"し\", \"た\", \"な\", \"その\"])\n",
    "\n",
    "# 頻出単語を集計する関数\n",
    "def count_frequent_words(df):\n",
    "    all_words = []\n",
    "    for text in df[\"Tokenized\"]:\n",
    "        words = text.split()\n",
    "        words = [word for word in words if word not in stopwords]\n",
    "        all_words.extend(words)\n",
    "\n",
    "    return Counter(all_words)\n",
    "\n",
    "# 頻出単語を取得\n",
    "alpha_word_counts = count_frequent_words(alpha_df)\n",
    "beta_word_counts = count_frequent_words(beta_df)\n",
    "\n",
    "print(\"頻出単語を集計しました。\")\n",
    "\n",
    "# 頻出単語の上位50単語をデータフレームに変換\n",
    "alpha_word_df = pd.DataFrame(alpha_word_counts.most_common(50), columns=[\"Word\", \"Count\"])\n",
    "beta_word_df = pd.DataFrame(beta_word_counts.most_common(50), columns=[\"Word\", \"Count\"])\n",
    "\n",
    "# 結果を保存\n",
    "alpha_word_df.to_csv(output_alpha_path, index=False, encoding=\"utf-8-sig\")\n",
    "beta_word_df.to_csv(output_beta_path, index=False, encoding=\"utf-8-sig\")\n",
    "\n",
    "print(f\"結果を {output_alpha_path} に保存しました。\")\n",
    "print(f\"結果を {output_beta_path} に保存しました。\")\n"
   ]
  },
  {
   "cell_type": "code",
   "execution_count": null,
   "metadata": {},
   "outputs": [],
   "source": []
  }
 ],
 "metadata": {
  "kernelspec": {
   "display_name": "study",
   "language": "python",
   "name": "python3"
  },
  "language_info": {
   "codemirror_mode": {
    "name": "ipython",
    "version": 3
   },
   "file_extension": ".py",
   "mimetype": "text/x-python",
   "name": "python",
   "nbconvert_exporter": "python",
   "pygments_lexer": "ipython3",
   "version": "3.10.16"
  }
 },
 "nbformat": 4,
 "nbformat_minor": 2
}
